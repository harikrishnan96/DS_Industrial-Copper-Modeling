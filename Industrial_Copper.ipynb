{
 "cells": [
  {
   "cell_type": "code",
   "execution_count": null,
   "id": "fea3832f-3d57-49a5-94e8-6114f7c2709c",
   "metadata": {},
   "outputs": [],
   "source": [
    "#import necessary libraries\n",
    "import pandas as pd\n",
    "import seaborn as sns\n",
    "import numpy as np\n",
    "import matplotlib.pyplot as plt\n",
    "import warnings\n",
    "warnings.filterwarnings(\"ignore\")"
   ]
  },
  {
   "cell_type": "code",
   "execution_count": null,
   "id": "6fa7dcb1-18cb-49a1-85f8-dd1590b70393",
   "metadata": {},
   "outputs": [],
   "source": [
    "#Load the dataset\n",
    "df = pd.read_csv('daily_offers.csv')\n",
    "df.shape"
   ]
  },
  {
   "cell_type": "code",
   "execution_count": null,
   "id": "da0bdbe3-cfed-42c8-ab79-e6ba3b82b168",
   "metadata": {},
   "outputs": [],
   "source": [
    "df.head(3)"
   ]
  },
  {
   "cell_type": "code",
   "execution_count": null,
   "id": "d66d8fa8-70c8-4128-8e81-0444bfe9ec71",
   "metadata": {},
   "outputs": [],
   "source": [
    "df.columns"
   ]
  },
  {
   "cell_type": "code",
   "execution_count": null,
   "id": "818c0290-cdae-4f2a-8cf3-d655560fb617",
   "metadata": {},
   "outputs": [],
   "source": [
    "# dealing with data in wrong format,for categorical variables, this step is ignored\n",
    "df['item_date'] = pd.to_datetime(df['item_date'], format='%Y%m%d', errors='coerce').dt.date\n",
    "df['quantity tons'] = pd.to_numeric(df['quantity tons'], errors='coerce')\n",
    "df['customer'] = pd.to_numeric(df['customer'], errors='coerce')\n",
    "df['country'] = pd.to_numeric(df['country'], errors='coerce')\n",
    "df['application'] = pd.to_numeric(df['application'], errors='coerce')\n",
    "df['thickness'] = pd.to_numeric(df['thickness'], errors='coerce')\n",
    "df['width'] = pd.to_numeric(df['width'], errors='coerce')\n",
    "df['material_ref'] = df['material_ref'].str.lstrip('0')\n",
    "df['product_ref'] = pd.to_numeric(df['product_ref'], errors='coerce')\n",
    "df['delivery date'] = pd.to_datetime(df['delivery date'], format='%Y%m%d', errors='coerce').dt.date\n",
    "df['selling_price'] = pd.to_numeric(df['selling_price'], errors='coerce')"
   ]
  },
  {
   "cell_type": "code",
   "execution_count": null,
   "id": "9001d6ba-9e14-4279-baf5-338edd268f85",
   "metadata": {},
   "outputs": [],
   "source": [
    "df.sample(3)"
   ]
  },
  {
   "cell_type": "code",
   "execution_count": null,
   "id": "a5bece39-dd36-4519-bd55-7fc57e6c74e4",
   "metadata": {},
   "outputs": [],
   "source": [
    "df.describe()"
   ]
  },
  {
   "cell_type": "code",
   "execution_count": null,
   "id": "6e141fe5-933f-4530-9ef9-e72cce9b255e",
   "metadata": {},
   "outputs": [],
   "source": [
    "sns.violinplot(x=df[\"width\"])"
   ]
  },
  {
   "cell_type": "code",
   "execution_count": null,
   "id": "196bab11-3d2f-4ee1-86f4-05123a9ea122",
   "metadata": {},
   "outputs": [],
   "source": [
    "sns.violinplot(x=df[\"application\"])"
   ]
  },
  {
   "cell_type": "code",
   "execution_count": null,
   "id": "a142a3b5-e575-4c8f-9eca-efca78ec5ac7",
   "metadata": {},
   "outputs": [],
   "source": [
    "sns.violinplot(x=df[\"country\"])"
   ]
  },
  {
   "cell_type": "code",
   "execution_count": null,
   "id": "aab3d8e5-ca39-4908-8144-a031eb605d15",
   "metadata": {},
   "outputs": [],
   "source": [
    "df.info()"
   ]
  },
  {
   "cell_type": "code",
   "execution_count": null,
   "id": "3f0ff35d-ec79-49f6-8931-c11719893a3b",
   "metadata": {},
   "outputs": [],
   "source": [
    "df.isnull().sum()"
   ]
  },
  {
   "cell_type": "code",
   "execution_count": null,
   "id": "7ac7a828-6943-460c-a03d-57077e21fa6e",
   "metadata": {},
   "outputs": [],
   "source": [
    "# material_ref has large set of null values, so replacing them with unknown because if we remove, it spoils our data. \n",
    "df['material_ref'].fillna('unknown', inplace=True)"
   ]
  },
  {
   "cell_type": "code",
   "execution_count": null,
   "id": "641db4bb-2ec4-40ce-8de9-2724fb6b2d98",
   "metadata": {},
   "outputs": [],
   "source": [
    "df.isnull().sum()"
   ]
  },
  {
   "cell_type": "code",
   "execution_count": null,
   "id": "72fced83-a6cc-48cc-a5f9-141f0f0c765d",
   "metadata": {},
   "outputs": [],
   "source": [
    "# deleting null values.\n",
    "df = df.dropna()"
   ]
  },
  {
   "cell_type": "code",
   "execution_count": null,
   "id": "99752264-6082-4520-8a0f-107e7581f451",
   "metadata": {},
   "outputs": [],
   "source": [
    "#draw boxplot\n",
    "sns.boxplot(data = df)"
   ]
  },
  {
   "cell_type": "code",
   "execution_count": null,
   "id": "76ef760c-d38c-46b2-a3ce-3f0c559a0a49",
   "metadata": {},
   "outputs": [],
   "source": [
    "dfr=df.copy()"
   ]
  },
  {
   "cell_type": "code",
   "execution_count": null,
   "id": "1845e907-b170-4c6b-9f62-312e2ad524d3",
   "metadata": {},
   "outputs": [],
   "source": [
    "dfr.isnull().sum()"
   ]
  },
  {
   "cell_type": "code",
   "execution_count": null,
   "id": "a959b7fe-569a-438d-b7cc-f6d613d7e603",
   "metadata": {},
   "outputs": [],
   "source": [
    "dfr['selling_price_log'] = np.log(dfr['selling_price'])\n",
    "sns.distplot(dfr['selling_price_log'])\n",
    "plt.show()\n",
    "\n",
    "dfr['quantity tons_log'] = np.log(dfr['quantity tons'])\n",
    "sns.distplot(dfr['quantity tons_log'])\n",
    "plt.show()\n",
    "\n",
    "dfr['thickness_log'] = np.log(dfr['thickness'])\n",
    "sns.distplot(dfr['thickness_log'])\n",
    "plt.show()\n",
    "# reverts log\n",
    "# sns.distplot(df_p['reverted_values'])"
   ]
  },
  {
   "cell_type": "code",
   "execution_count": null,
   "id": "ccababcf-e844-4050-afa2-f9a9c05401db",
   "metadata": {},
   "outputs": [],
   "source": [
    "#use ordinal encoder to convert categorical data into numerical data.\n",
    "from sklearn.preprocessing import OrdinalEncoder\n",
    "OE = OrdinalEncoder()\n",
    "dfr.status = OE.fit_transform(dfr[['status']])\n",
    "dfr['item type'] = OE.fit_transform(dfr[['item type']])"
   ]
  },
  {
   "cell_type": "code",
   "execution_count": null,
   "id": "93ff55f1-a958-4f26-8325-e7fc1f843818",
   "metadata": {},
   "outputs": [],
   "source": [
    "dfr = dfr.dropna()"
   ]
  },
  {
   "cell_type": "code",
   "execution_count": null,
   "id": "0da481ad-8632-4dcd-b09f-20397d794514",
   "metadata": {},
   "outputs": [],
   "source": [
    "#Regression\n",
    "#split data into X, y\n",
    "X=dfr[['quantity tons_log','status','item type','application','thickness_log','width','country','customer','product_ref']]\n",
    "y=dfr['selling_price_log']"
   ]
  },
  {
   "cell_type": "code",
   "execution_count": null,
   "id": "8b8b1d0f-5567-43d4-8bf4-290852052fff",
   "metadata": {},
   "outputs": [],
   "source": [
    "from sklearn.preprocessing import StandardScaler\n",
    "SS = StandardScaler()\n",
    "SS.fit_transform(X)"
   ]
  },
  {
   "cell_type": "code",
   "execution_count": null,
   "id": "608ca734-33ea-4170-b6cf-5d31d9e7144a",
   "metadata": {},
   "outputs": [],
   "source": [
    "from sklearn.model_selection import train_test_split\n",
    "X_train, X_test, y_train, y_test = train_test_split(X, y, test_size = 0.3, random_state = 5)\n",
    "print(X_train.shape)\n",
    "print(X_test.shape)\n",
    "print(y_train.shape)\n",
    "print(y_test.shape)"
   ]
  },
  {
   "cell_type": "code",
   "execution_count": null,
   "id": "b4628165-81d8-45c5-8f7e-412cd57768e2",
   "metadata": {},
   "outputs": [],
   "source": [
    "#import regression algorithm.\n",
    "from sklearn.tree import DecisionTreeRegressor\n",
    "from sklearn.linear_model import LinearRegression\n",
    "from sklearn.model_selection import GridSearchCV\n",
    "from sklearn.ensemble import RandomForestRegressor\n",
    "from sklearn.ensemble import GradientBoostingRegressor"
   ]
  },
  {
   "cell_type": "code",
   "execution_count": null,
   "id": "0b6d3f3b-0181-4d49-8fe5-3095517970be",
   "metadata": {},
   "outputs": [],
   "source": [
    "lr = LinearRegression()\n",
    "lr.fit(X_train, y_train)\n",
    "print(lr.score(X_train, y_train))\n",
    "print(lr.score(X_test, y_test))"
   ]
  },
  {
   "cell_type": "code",
   "execution_count": null,
   "id": "1db79ec4-1e80-4c30-8fac-7e9714b0e6b0",
   "metadata": {},
   "outputs": [],
   "source": [
    "rf = RandomForestRegressor(n_estimators = 20, max_depth = 4, random_state = 42)\n",
    "rf.fit(X_train, y_train)\n",
    "print(rf.score(X_train, y_train))\n",
    "print(rf.score(X_test,y_test))"
   ]
  },
  {
   "cell_type": "code",
   "execution_count": null,
   "id": "fd22ee90-aa69-4685-8663-5377af47535a",
   "metadata": {},
   "outputs": [],
   "source": [
    "gbr = GradientBoostingRegressor(n_estimators = 10, learning_rate = 0.1, random_state =42)\n",
    "gbr.fit(X_train,y_train)\n",
    "print(gbr.score(X_train,y_train))\n",
    "print(gbr.score(X_test,y_test))"
   ]
  },
  {
   "cell_type": "code",
   "execution_count": null,
   "id": "ab162239-0fad-463f-84c6-11fb3c77a552",
   "metadata": {},
   "outputs": [],
   "source": [
    "dtr = DecisionTreeRegressor()\n",
    "# hyperparameters\n",
    "param_grid = {'max_depth': [2, 5, 10, 20],\n",
    "              'min_samples_split': [2, 5, 10],\n",
    "              'min_samples_leaf': [1, 2, 4],\n",
    "              'max_features': ['auto', 'sqrt', 'log2']}\n",
    "# gridsearchcv\n",
    "grid_search = GridSearchCV(estimator=dtr, param_grid=param_grid, cv=5)\n",
    "grid_search.fit(X_train, y_train)\n",
    "print(\"Best hyperparameters:\", grid_search.best_params_)\n",
    "best_model = grid_search.best_estimator_\n",
    "y_pred = best_model.predict(X_test)"
   ]
  },
  {
   "cell_type": "code",
   "execution_count": null,
   "id": "796c533c-e06b-477a-9e38-4c1486dc114b",
   "metadata": {},
   "outputs": [],
   "source": [
    "#check metrics\n",
    "from sklearn import metrics\n",
    "#check MSE\n",
    "metrics.mean_squared_error(y_test,y_pred)"
   ]
  },
  {
   "cell_type": "code",
   "execution_count": null,
   "id": "b2cdd3d9-1793-427b-baff-fa7e405a6b20",
   "metadata": {},
   "outputs": [],
   "source": [
    "#check MAE\n",
    "metrics.mean_absolute_error(y_test, y_pred)"
   ]
  },
  {
   "cell_type": "code",
   "execution_count": null,
   "id": "71db7ef2-0dea-4930-add2-8bb8babb81ba",
   "metadata": {},
   "outputs": [],
   "source": [
    "#R2 Score\n",
    "print(metrics.r2_score(y_test,y_pred))"
   ]
  },
  {
   "cell_type": "code",
   "execution_count": null,
   "id": "376c4ec3-f8d6-4e67-90f6-3b04fb3f99c5",
   "metadata": {},
   "outputs": [],
   "source": [
    "df.status.value_counts()"
   ]
  },
  {
   "cell_type": "code",
   "execution_count": null,
   "id": "d72f0f99-6355-4be9-98c6-b5f40e383221",
   "metadata": {},
   "outputs": [],
   "source": [
    "dfc = df.copy()"
   ]
  },
  {
   "cell_type": "code",
   "execution_count": null,
   "id": "73a30160-8ac6-4257-a08e-e13a3d08280e",
   "metadata": {},
   "outputs": [],
   "source": [
    "dfc = df[df['status'].isin(['Won', 'Lost'])]\n",
    "len(dfc)"
   ]
  },
  {
   "cell_type": "code",
   "execution_count": null,
   "id": "3a365507-eaa9-4d73-9bf0-6754aae98863",
   "metadata": {},
   "outputs": [],
   "source": [
    "dfc.status.value_counts()"
   ]
  },
  {
   "cell_type": "code",
   "execution_count": null,
   "id": "08796a99-152d-4caa-aeb0-6fd5628d99eb",
   "metadata": {},
   "outputs": [],
   "source": [
    "#use ordinal encoder to convert categorical data into numerical data\n",
    "OE = OrdinalEncoder()\n",
    "dfc.status = OE.fit_transform(dfc[['status']])\n",
    "dfc['item type'] = OE.fit_transform(dfc[['item type']])"
   ]
  },
  {
   "cell_type": "code",
   "execution_count": null,
   "id": "0f747596-1d8b-4646-a84e-2a187512af00",
   "metadata": {},
   "outputs": [],
   "source": [
    "#split data into X, y\n",
    "X = dfc[['quantity tons','selling_price','item type','application','thickness','width','country','customer','product_ref']]\n",
    "y = dfc['status']"
   ]
  },
  {
   "cell_type": "code",
   "execution_count": null,
   "id": "251b377f-3c6c-4b00-95c2-ca23d313ccaa",
   "metadata": {},
   "outputs": [],
   "source": [
    "#apply standard scaler\n",
    "SS.fit_transform(X)"
   ]
  },
  {
   "cell_type": "code",
   "execution_count": null,
   "id": "1cfa4a6a-6ad8-4592-8424-3bee6713ee9d",
   "metadata": {},
   "outputs": [],
   "source": [
    "#split data into train test\n",
    "from sklearn.model_selection import train_test_split\n",
    "X_train, X_test, y_train, y_test = train_test_split(X, y, test_size = 0.3, random_state = 5)\n",
    "print(X_train.shape)\n",
    "print(X_test.shape)\n",
    "print(y_train.shape)\n",
    "print(y_test.shape)"
   ]
  },
  {
   "cell_type": "code",
   "execution_count": null,
   "id": "f04eda20-2cc6-48de-8b4b-e9a9c0bce9c9",
   "metadata": {},
   "outputs": [],
   "source": [
    "#import classifier algorithms.\n",
    "from sklearn.tree import DecisionTreeClassifier\n",
    "from sklearn.neighbors import KNeighborsClassifier\n",
    "from sklearn.ensemble import RandomForestClassifier\n",
    "from sklearn.ensemble import GradientBoostingClassifier\n",
    "from sklearn.linear_model import LogisticRegression"
   ]
  },
  {
   "cell_type": "code",
   "execution_count": null,
   "id": "bde20688-2d42-42d1-a403-2b5176656a64",
   "metadata": {},
   "outputs": [],
   "source": [
    "dtc = DecisionTreeClassifier(max_depth = 5, random_state = 1)\n",
    "dtc.fit(X_train, y_train)\n",
    "train_score = dtc.score(X_train, y_train)\n",
    "test_score = dtc.score(X_test, y_test)\n",
    "print(train_score)\n",
    "print(test_score)"
   ]
  },
  {
   "cell_type": "code",
   "execution_count": null,
   "id": "a6a40412-61ec-4729-b099-be1b27756afa",
   "metadata": {},
   "outputs": [],
   "source": [
    "knn = KNeighborsClassifier(n_neighbors = 6)\n",
    "knn.fit(X_train, y_train)\n",
    "print(knn.score(X_train, y_train))\n",
    "print(knn.score(X_test, y_test))"
   ]
  },
  {
   "cell_type": "code",
   "execution_count": null,
   "id": "b0bfcc69-4032-46b5-a003-cb551a2ada59",
   "metadata": {},
   "outputs": [],
   "source": [
    "gbc = GradientBoostingClassifier(n_estimators = 30, learning_rate = 0.1,random_state = 28)\n",
    "gbc.fit(X_train, y_train)\n",
    "print(gbc.score(X_train, y_train))\n",
    "print(gbc.score(X_test, y_test))"
   ]
  },
  {
   "cell_type": "code",
   "execution_count": null,
   "id": "596da25a-c729-433a-9c72-eccedfcdf275",
   "metadata": {},
   "outputs": [],
   "source": [
    "rfc = RandomForestClassifier(n_estimators = 20, max_depth =6,random_state = 35)\n",
    "rfc.fit(X_train, y_train)\n",
    "print(rfc.score(X_train, y_train))\n",
    "print(rfc.score(X_test, y_test))"
   ]
  },
  {
   "cell_type": "code",
   "execution_count": null,
   "id": "927fad79-44c4-41ad-81af-c3e842775699",
   "metadata": {},
   "outputs": [],
   "source": [
    "LR = LogisticRegression()\n",
    "LR.fit(X_train,y_train)\n",
    "print(LR.score(X_train, y_train))\n",
    "print(LR.score(X_test, y_test))"
   ]
  },
  {
   "cell_type": "code",
   "execution_count": null,
   "id": "b25f8f80-b4d8-45ae-9cae-11d7c09cf11d",
   "metadata": {},
   "outputs": [],
   "source": [
    "from sklearn.metrics import auc, accuracy_score, confusion_matrix, mean_squared_error\n",
    "import xgboost as xgb\n",
    "xgb_model = xgb.XGBRegressor(objective=\"reg:linear\", random_state=42)\n",
    "xgb_model.fit(X_train, y_train)\n",
    "xgb_model.score(X_train, y_train)"
   ]
  },
  {
   "cell_type": "code",
   "execution_count": null,
   "id": "cffc689c-78f4-4bea-b924-fc0f5fa380c8",
   "metadata": {},
   "outputs": [],
   "source": [
    "y_predict = xgb_model.predict(X_test)"
   ]
  },
  {
   "cell_type": "code",
   "execution_count": null,
   "id": "69a2edd2-23f4-45ab-9601-bf53aa6c5c02",
   "metadata": {},
   "outputs": [],
   "source": [
    "mean_squared_error(y_test, y_predict)"
   ]
  },
  {
   "cell_type": "code",
   "execution_count": null,
   "id": "6a522bcf-9497-48a2-896b-3d39c3c4e637",
   "metadata": {},
   "outputs": [],
   "source": [
    "xgb_model"
   ]
  },
  {
   "cell_type": "code",
   "execution_count": null,
   "id": "176dc190-09b4-4b48-8ceb-3b79d422ba10",
   "metadata": {},
   "outputs": [],
   "source": [
    "from sklearn.ensemble import ExtraTreesClassifier\n",
    "clf = ExtraTreesClassifier(n_estimators=20, random_state=0)\n",
    "clf.fit(X_train, y_train)\n",
    "print(clf.score(X_train, y_train))\n",
    "print(clf.score(X_test, y_test))"
   ]
  },
  {
   "cell_type": "code",
   "execution_count": null,
   "id": "ead5d85d-3842-4ffa-ac7f-02d44c42bbe9",
   "metadata": {},
   "outputs": [],
   "source": [
    "knn.predict(X_test)"
   ]
  },
  {
   "cell_type": "code",
   "execution_count": null,
   "id": "565be716-d229-4749-9e1f-c1e90d4c7da5",
   "metadata": {},
   "outputs": [],
   "source": [
    "y_pred= knn.predict(X_test)"
   ]
  },
  {
   "cell_type": "code",
   "execution_count": null,
   "id": "831d578b-b57f-43f7-a113-8d9ca7e3c696",
   "metadata": {},
   "outputs": [],
   "source": [
    "from sklearn.metrics import confusion_matrix\n",
    "cm = confusion_matrix(y_test,y_pred)\n",
    "cm"
   ]
  },
  {
   "cell_type": "code",
   "execution_count": null,
   "id": "66ca1279-ebdf-42c2-8ade-1c664fa4f72e",
   "metadata": {},
   "outputs": [],
   "source": [
    "#draw heatmap\n",
    "plt.figure(figsize = (7,5))\n",
    "sn.heatmap(cm, annot = True)\n",
    "plt.xlabel('Predicted')\n",
    "plt.ylabel('Truth')"
   ]
  },
  {
   "cell_type": "code",
   "execution_count": null,
   "id": "209aff66-8ea7-4424-af4d-a99e151f4ba3",
   "metadata": {},
   "outputs": [],
   "source": [
    "from sklearn.metrics import accuracy_score, f1_score, plot_confusion_matrix,classification_report, roc_curve, auc"
   ]
  },
  {
   "cell_type": "code",
   "execution_count": null,
   "id": "c21710f7-3645-409e-9534-6341bed5ce43",
   "metadata": {},
   "outputs": [],
   "source": [
    "#check accuracy score.\n",
    "accuracy_score(y_test, y_pred)"
   ]
  },
  {
   "cell_type": "code",
   "execution_count": null,
   "id": "a57108c6-241d-4a47-8e03-220e49d99190",
   "metadata": {},
   "outputs": [],
   "source": [
    "f1_score(y_test,y_pred, average = 'macro')"
   ]
  },
  {
   "cell_type": "code",
   "execution_count": null,
   "id": "a9a4b123-befe-4bb0-8e8a-9b903ec79dba",
   "metadata": {},
   "outputs": [],
   "source": [
    "plot_confusion_matrix(knn, X_test, y_test);"
   ]
  },
  {
   "cell_type": "code",
   "execution_count": null,
   "id": "6b63ed04-eac3-4956-86c0-e0a067ea897b",
   "metadata": {},
   "outputs": [],
   "source": [
    "# ROC curve and AUC\n",
    "fpr, tpr, thresholds = roc_curve(y_test, y_pred)\n",
    "roc_auc = auc(fpr, tpr)\n",
    "plt.plot(fpr, tpr, label='ROC curve (area = %0.2f)' % roc_auc)\n",
    "plt.plot([0, 1], [0, 1], 'm-')\n",
    "plt.xlim([0.0, 1.0])\n",
    "plt.ylim([0.0, 1.2])\n",
    "plt.xlabel('False Positive Rate')\n",
    "plt.ylabel('True Positive Rate')\n",
    "plt.title('ROC Curve')\n",
    "plt.legend()\n",
    "plt.show()"
   ]
  },
  {
   "cell_type": "code",
   "execution_count": null,
   "id": "40d7f72c-be95-4990-8759-aaa398b3afe3",
   "metadata": {},
   "outputs": [],
   "source": [
    "print(classification_report(y_test, y_pred))"
   ]
  }
 ],
 "metadata": {
  "kernelspec": {
   "display_name": "Python 3 (ipykernel)",
   "language": "python",
   "name": "python3"
  },
  "language_info": {
   "codemirror_mode": {
    "name": "ipython",
    "version": 3
   },
   "file_extension": ".py",
   "mimetype": "text/x-python",
   "name": "python",
   "nbconvert_exporter": "python",
   "pygments_lexer": "ipython3",
   "version": "3.12.4"
  }
 },
 "nbformat": 4,
 "nbformat_minor": 5
}
